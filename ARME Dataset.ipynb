{
 "cells": [
  {
   "cell_type": "code",
   "execution_count": 1,
   "id": "585b422a",
   "metadata": {},
   "outputs": [],
   "source": [
    "import pandas as pd\n",
    "import numpy as np\n",
    "import seaborn as sns\n",
    "import matplotlib.pyplot as plt\n",
    "%matplotlib inline"
   ]
  },
  {
   "cell_type": "code",
   "execution_count": 2,
   "id": "dbd8e28d",
   "metadata": {},
   "outputs": [],
   "source": [
    "df_bending21=pd.read_csv(r\"C:\\Users\\kunj3\\Downloads\\AReM\\bending2\\dataset1.csv\",skiprows=4)"
   ]
  },
  {
   "cell_type": "code",
   "execution_count": 3,
   "id": "805c23c8",
   "metadata": {},
   "outputs": [],
   "source": [
    "df_bending22=pd.read_csv(r\"C:\\Users\\kunj3\\Downloads\\AReM\\bending2\\dataset2.csv\",skiprows=4)"
   ]
  },
  {
   "cell_type": "code",
   "execution_count": 4,
   "id": "a7845f25",
   "metadata": {},
   "outputs": [],
   "source": [
    "df_bending23=pd.read_csv(r\"C:\\Users\\kunj3\\Downloads\\AReM\\bending2\\dataset3.csv\",skiprows=4)"
   ]
  },
  {
   "cell_type": "code",
   "execution_count": 5,
   "id": "f64b3b1f",
   "metadata": {},
   "outputs": [],
   "source": [
    "df_bending24=pd.read_csv(r\"C:\\Users\\kunj3\\Downloads\\AReM\\bending2\\dataset4.csv\",skiprows=5,sep=' ')"
   ]
  },
  {
   "cell_type": "code",
   "execution_count": 6,
   "id": "ac6fcfda",
   "metadata": {},
   "outputs": [],
   "source": [
    "df_bending25=pd.read_csv(r\"C:\\Users\\kunj3\\Downloads\\AReM\\bending2\\dataset5.csv\",skiprows=4)"
   ]
  },
  {
   "cell_type": "code",
   "execution_count": 7,
   "id": "899fbb7c",
   "metadata": {},
   "outputs": [],
   "source": [
    "df_bending26=pd.read_csv(r\"C:\\Users\\kunj3\\Downloads\\AReM\\bending2\\dataset6.csv\",skiprows=4)"
   ]
  },
  {
   "cell_type": "code",
   "execution_count": 8,
   "id": "1267fbdc",
   "metadata": {},
   "outputs": [
    {
     "data": {
      "text/html": [
       "<div>\n",
       "<style scoped>\n",
       "    .dataframe tbody tr th:only-of-type {\n",
       "        vertical-align: middle;\n",
       "    }\n",
       "\n",
       "    .dataframe tbody tr th {\n",
       "        vertical-align: top;\n",
       "    }\n",
       "\n",
       "    .dataframe thead th {\n",
       "        text-align: right;\n",
       "    }\n",
       "</style>\n",
       "<table border=\"1\" class=\"dataframe\">\n",
       "  <thead>\n",
       "    <tr style=\"text-align: right;\">\n",
       "      <th></th>\n",
       "      <th>0</th>\n",
       "      <th>32.50</th>\n",
       "      <th>0.50</th>\n",
       "      <th>0.00</th>\n",
       "      <th>0.00.1</th>\n",
       "      <th>19.00</th>\n",
       "      <th>1.00</th>\n",
       "      <th>Unnamed: 7</th>\n",
       "    </tr>\n",
       "  </thead>\n",
       "  <tbody>\n",
       "    <tr>\n",
       "      <th>0</th>\n",
       "      <td>250</td>\n",
       "      <td>32.50</td>\n",
       "      <td>0.50</td>\n",
       "      <td>0.0</td>\n",
       "      <td>0.0</td>\n",
       "      <td>18.50</td>\n",
       "      <td>0.50</td>\n",
       "      <td>NaN</td>\n",
       "    </tr>\n",
       "    <tr>\n",
       "      <th>1</th>\n",
       "      <td>500</td>\n",
       "      <td>32.75</td>\n",
       "      <td>0.43</td>\n",
       "      <td>1.0</td>\n",
       "      <td>0.0</td>\n",
       "      <td>18.00</td>\n",
       "      <td>0.00</td>\n",
       "      <td>NaN</td>\n",
       "    </tr>\n",
       "    <tr>\n",
       "      <th>2</th>\n",
       "      <td>750</td>\n",
       "      <td>32.50</td>\n",
       "      <td>0.50</td>\n",
       "      <td>0.0</td>\n",
       "      <td>0.0</td>\n",
       "      <td>17.50</td>\n",
       "      <td>0.50</td>\n",
       "      <td>NaN</td>\n",
       "    </tr>\n",
       "    <tr>\n",
       "      <th>3</th>\n",
       "      <td>1000</td>\n",
       "      <td>32.50</td>\n",
       "      <td>0.50</td>\n",
       "      <td>7.5</td>\n",
       "      <td>0.5</td>\n",
       "      <td>17.50</td>\n",
       "      <td>0.87</td>\n",
       "      <td>NaN</td>\n",
       "    </tr>\n",
       "    <tr>\n",
       "      <th>4</th>\n",
       "      <td>1250</td>\n",
       "      <td>32.67</td>\n",
       "      <td>0.47</td>\n",
       "      <td>11.0</td>\n",
       "      <td>1.0</td>\n",
       "      <td>16.75</td>\n",
       "      <td>0.83</td>\n",
       "      <td>NaN</td>\n",
       "    </tr>\n",
       "  </tbody>\n",
       "</table>\n",
       "</div>"
      ],
      "text/plain": [
       "      0  32.50  0.50  0.00  0.00.1  19.00  1.00  Unnamed: 7\n",
       "0   250  32.50  0.50   0.0     0.0  18.50  0.50         NaN\n",
       "1   500  32.75  0.43   1.0     0.0  18.00  0.00         NaN\n",
       "2   750  32.50  0.50   0.0     0.0  17.50  0.50         NaN\n",
       "3  1000  32.50  0.50   7.5     0.5  17.50  0.87         NaN\n",
       "4  1250  32.67  0.47  11.0     1.0  16.75  0.83         NaN"
      ]
     },
     "execution_count": 8,
     "metadata": {},
     "output_type": "execute_result"
    }
   ],
   "source": [
    "df_bending24.head()"
   ]
  },
  {
   "cell_type": "code",
   "execution_count": 9,
   "id": "dc99e471",
   "metadata": {},
   "outputs": [
    {
     "data": {
      "text/plain": [
       "0               0\n",
       "32.50           0\n",
       "0.50            0\n",
       "0.00            0\n",
       "0.00.1          0\n",
       "19.00           0\n",
       "1.00            0\n",
       "Unnamed: 7    479\n",
       "dtype: int64"
      ]
     },
     "execution_count": 9,
     "metadata": {},
     "output_type": "execute_result"
    }
   ],
   "source": [
    "df_bending24.isnull().sum()"
   ]
  },
  {
   "cell_type": "code",
   "execution_count": 10,
   "id": "bccb2e79",
   "metadata": {},
   "outputs": [
    {
     "data": {
      "text/plain": [
       "Index(['0', '32.50', '0.50', '0.00', '0.00.1', '19.00', '1.00', 'Unnamed: 7'], dtype='object')"
      ]
     },
     "execution_count": 10,
     "metadata": {},
     "output_type": "execute_result"
    }
   ],
   "source": [
    "df_bending24.columns"
   ]
  },
  {
   "cell_type": "code",
   "execution_count": 11,
   "id": "1b73f2d5",
   "metadata": {},
   "outputs": [
    {
     "data": {
      "text/plain": [
       "(479, 8)"
      ]
     },
     "execution_count": 11,
     "metadata": {},
     "output_type": "execute_result"
    }
   ],
   "source": [
    "df_bending24.shape"
   ]
  },
  {
   "cell_type": "code",
   "execution_count": 12,
   "id": "705074fc",
   "metadata": {},
   "outputs": [],
   "source": [
    "df_bending24.rename(\n",
    "    columns={'0':'# Columns: time', '32.50':'avg_rss12', '0.50':'var_rss12', '0.00':'avg_rss13', '0.00.1':'var_rss13', '19.00':'avg_rss23', '1.00':'var_rss23'},\n",
    "    inplace=True\n",
    ")"
   ]
  },
  {
   "cell_type": "code",
   "execution_count": 13,
   "id": "69f92e52",
   "metadata": {},
   "outputs": [],
   "source": [
    "df_bending24.drop(columns=['Unnamed: 7'],axis=0,inplace=True)"
   ]
  },
  {
   "cell_type": "code",
   "execution_count": 14,
   "id": "4ac43b39",
   "metadata": {},
   "outputs": [
    {
     "data": {
      "text/html": [
       "<div>\n",
       "<style scoped>\n",
       "    .dataframe tbody tr th:only-of-type {\n",
       "        vertical-align: middle;\n",
       "    }\n",
       "\n",
       "    .dataframe tbody tr th {\n",
       "        vertical-align: top;\n",
       "    }\n",
       "\n",
       "    .dataframe thead th {\n",
       "        text-align: right;\n",
       "    }\n",
       "</style>\n",
       "<table border=\"1\" class=\"dataframe\">\n",
       "  <thead>\n",
       "    <tr style=\"text-align: right;\">\n",
       "      <th></th>\n",
       "      <th># Columns: time</th>\n",
       "      <th>avg_rss12</th>\n",
       "      <th>var_rss12</th>\n",
       "      <th>avg_rss13</th>\n",
       "      <th>var_rss13</th>\n",
       "      <th>avg_rss23</th>\n",
       "      <th>var_rss23</th>\n",
       "    </tr>\n",
       "  </thead>\n",
       "  <tbody>\n",
       "    <tr>\n",
       "      <th>0</th>\n",
       "      <td>250</td>\n",
       "      <td>32.50</td>\n",
       "      <td>0.50</td>\n",
       "      <td>0.0</td>\n",
       "      <td>0.0</td>\n",
       "      <td>18.50</td>\n",
       "      <td>0.50</td>\n",
       "    </tr>\n",
       "    <tr>\n",
       "      <th>1</th>\n",
       "      <td>500</td>\n",
       "      <td>32.75</td>\n",
       "      <td>0.43</td>\n",
       "      <td>1.0</td>\n",
       "      <td>0.0</td>\n",
       "      <td>18.00</td>\n",
       "      <td>0.00</td>\n",
       "    </tr>\n",
       "    <tr>\n",
       "      <th>2</th>\n",
       "      <td>750</td>\n",
       "      <td>32.50</td>\n",
       "      <td>0.50</td>\n",
       "      <td>0.0</td>\n",
       "      <td>0.0</td>\n",
       "      <td>17.50</td>\n",
       "      <td>0.50</td>\n",
       "    </tr>\n",
       "    <tr>\n",
       "      <th>3</th>\n",
       "      <td>1000</td>\n",
       "      <td>32.50</td>\n",
       "      <td>0.50</td>\n",
       "      <td>7.5</td>\n",
       "      <td>0.5</td>\n",
       "      <td>17.50</td>\n",
       "      <td>0.87</td>\n",
       "    </tr>\n",
       "    <tr>\n",
       "      <th>4</th>\n",
       "      <td>1250</td>\n",
       "      <td>32.67</td>\n",
       "      <td>0.47</td>\n",
       "      <td>11.0</td>\n",
       "      <td>1.0</td>\n",
       "      <td>16.75</td>\n",
       "      <td>0.83</td>\n",
       "    </tr>\n",
       "  </tbody>\n",
       "</table>\n",
       "</div>"
      ],
      "text/plain": [
       "   # Columns: time  avg_rss12  var_rss12  avg_rss13  var_rss13  avg_rss23  \\\n",
       "0              250      32.50       0.50        0.0        0.0      18.50   \n",
       "1              500      32.75       0.43        1.0        0.0      18.00   \n",
       "2              750      32.50       0.50        0.0        0.0      17.50   \n",
       "3             1000      32.50       0.50        7.5        0.5      17.50   \n",
       "4             1250      32.67       0.47       11.0        1.0      16.75   \n",
       "\n",
       "   var_rss23  \n",
       "0       0.50  \n",
       "1       0.00  \n",
       "2       0.50  \n",
       "3       0.87  \n",
       "4       0.83  "
      ]
     },
     "execution_count": 14,
     "metadata": {},
     "output_type": "execute_result"
    }
   ],
   "source": [
    "df_bending24.head()"
   ]
  },
  {
   "cell_type": "code",
   "execution_count": 15,
   "id": "c5f9f0c2",
   "metadata": {},
   "outputs": [],
   "source": [
    "df_bending24.loc[len(df_bending24.index)]=[0,32.50,0.50,0.00,0.001,19.00,1.00]"
   ]
  },
  {
   "cell_type": "code",
   "execution_count": 16,
   "id": "9f66ffb7",
   "metadata": {},
   "outputs": [],
   "source": [
    "lst1 = [df_bending21,df_bending22, df_bending23, df_bending24,df_bending25,df_bending26]  # List of your dataframes\n",
    "df_bending2= pd.concat(lst1)"
   ]
  },
  {
   "cell_type": "code",
   "execution_count": 17,
   "id": "38490e02",
   "metadata": {},
   "outputs": [],
   "source": [
    "df_bending2.rename(\n",
    "    columns={'# Columns: time':'time'},\n",
    "    inplace=True,\n",
    ")"
   ]
  },
  {
   "cell_type": "code",
   "execution_count": 18,
   "id": "2ed5fc33",
   "metadata": {},
   "outputs": [
    {
     "data": {
      "text/plain": [
       "pandas.core.frame.DataFrame"
      ]
     },
     "execution_count": 18,
     "metadata": {},
     "output_type": "execute_result"
    }
   ],
   "source": [
    "type(df_bending2)"
   ]
  },
  {
   "cell_type": "code",
   "execution_count": 19,
   "id": "0ce30517",
   "metadata": {},
   "outputs": [],
   "source": [
    "# Using data library\n",
    "path = 'C:\\\\Users\\\\kunj3\\\\Downloads\\\\AReM\\\\walking'\n",
    "import dask.dataframe as dd\n",
    "df_walking = dd.read_csv(path + \"/*.csv\",skiprows=4)"
   ]
  },
  {
   "cell_type": "code",
   "execution_count": 20,
   "id": "1fc314f2",
   "metadata": {},
   "outputs": [],
   "source": [
    "# Using data library\n",
    "path = 'C:\\\\Users\\\\kunj3\\\\Downloads\\\\AReM\\\\sitting'\n",
    "df_sitting = dd.read_csv(path + \"/*.csv\",skiprows=4)"
   ]
  },
  {
   "cell_type": "code",
   "execution_count": 21,
   "id": "ce2b8ed0",
   "metadata": {},
   "outputs": [],
   "source": [
    "# Using data library\n",
    "path = 'C:\\\\Users\\\\kunj3\\\\Downloads\\\\AReM\\\\standing'\n",
    "df_standing = dd.read_csv(path + \"/*.csv\",skiprows=4)"
   ]
  },
  {
   "cell_type": "code",
   "execution_count": 22,
   "id": "8319451f",
   "metadata": {},
   "outputs": [],
   "source": [
    "# Using data library\n",
    "path = 'C:\\\\Users\\\\kunj3\\\\Downloads\\\\AReM\\\\lying'\n",
    "df_lying = dd.read_csv(path + \"/*.csv\",skiprows=4)"
   ]
  },
  {
   "cell_type": "code",
   "execution_count": 23,
   "id": "d617dbdf",
   "metadata": {},
   "outputs": [],
   "source": [
    "# Using data library\n",
    "path = 'C:\\\\Users\\\\kunj3\\\\Downloads\\\\AReM\\\\cycling'\n",
    "df_cycling = dd.read_csv(path + \"/*.csv\",skiprows=4,on_bad_lines='skip')"
   ]
  },
  {
   "cell_type": "code",
   "execution_count": 24,
   "id": "c8fb97a4",
   "metadata": {},
   "outputs": [],
   "source": [
    "# Using data library\n",
    "path = 'C:\\\\Users\\\\kunj3\\\\Downloads\\\\AReM\\\\bending1'\n",
    "df_bending1 = dd.read_csv(path + \"/*.csv\",skiprows=4)"
   ]
  },
  {
   "cell_type": "code",
   "execution_count": 25,
   "id": "44ea31de",
   "metadata": {},
   "outputs": [],
   "source": [
    "df_walking=pd.DataFrame(df_walking)"
   ]
  },
  {
   "cell_type": "code",
   "execution_count": 26,
   "id": "203acf67",
   "metadata": {},
   "outputs": [],
   "source": [
    "df_sitting=pd.DataFrame(df_sitting)"
   ]
  },
  {
   "cell_type": "code",
   "execution_count": 27,
   "id": "8c5c876a",
   "metadata": {},
   "outputs": [],
   "source": [
    "df_standing=pd.DataFrame(df_standing)"
   ]
  },
  {
   "cell_type": "code",
   "execution_count": 28,
   "id": "6071d5a5",
   "metadata": {},
   "outputs": [],
   "source": [
    "df_lying=pd.DataFrame(df_lying)"
   ]
  },
  {
   "cell_type": "code",
   "execution_count": 29,
   "id": "2d66bced",
   "metadata": {},
   "outputs": [],
   "source": [
    "df_cycling=pd.DataFrame(df_cycling)"
   ]
  },
  {
   "cell_type": "code",
   "execution_count": 30,
   "id": "ab2a6d0d",
   "metadata": {},
   "outputs": [],
   "source": [
    "df_bending1=pd.DataFrame(df_bending1)"
   ]
  },
  {
   "cell_type": "code",
   "execution_count": 31,
   "id": "1bf84063",
   "metadata": {},
   "outputs": [],
   "source": [
    "df_walking.rename(\n",
    "    columns={0:'time', 1:'avg_rss12', 2:'var_rss12', 3:'avg_rss13', 4:'var_rss13', 5:'avg_rss23', 6:'var_rss23'},\n",
    "    inplace=True,\n",
    ")"
   ]
  },
  {
   "cell_type": "code",
   "execution_count": 32,
   "id": "c094d025",
   "metadata": {},
   "outputs": [],
   "source": [
    "df_sitting.rename(\n",
    "    columns={0:'time', 1:'avg_rss12', 2:'var_rss12', 3:'avg_rss13', 4:'var_rss13', 5:'avg_rss23', 6:'var_rss23'},\n",
    "    inplace=True,\n",
    ")"
   ]
  },
  {
   "cell_type": "code",
   "execution_count": 33,
   "id": "ade427af",
   "metadata": {},
   "outputs": [],
   "source": [
    "df_standing.rename(\n",
    "    columns={0:'time', 1:'avg_rss12', 2:'var_rss12', 3:'avg_rss13', 4:'var_rss13', 5:'avg_rss23', 6:'var_rss23'},\n",
    "    inplace=True,\n",
    ")"
   ]
  },
  {
   "cell_type": "code",
   "execution_count": 34,
   "id": "c789c3d0",
   "metadata": {},
   "outputs": [],
   "source": [
    "df_lying.rename(\n",
    "    columns={0:'time', 1:'avg_rss12', 2:'var_rss12', 3:'avg_rss13', 4:'var_rss13', 5:'avg_rss23', 6:'var_rss23'},\n",
    "    inplace=True,\n",
    ")"
   ]
  },
  {
   "cell_type": "code",
   "execution_count": 35,
   "id": "6af29e49",
   "metadata": {},
   "outputs": [],
   "source": [
    "df_cycling.rename(\n",
    "    columns={0:'time', 1:'avg_rss12', 2:'var_rss12', 3:'avg_rss13', 4:'var_rss13', 5:'avg_rss23', 6:'var_rss23'},\n",
    "    inplace=True,\n",
    ")"
   ]
  },
  {
   "cell_type": "code",
   "execution_count": 36,
   "id": "556781c5",
   "metadata": {},
   "outputs": [],
   "source": [
    "df_bending1.rename(\n",
    "    columns={0:'time', 1:'avg_rss12', 2:'var_rss12', 3:'avg_rss13', 4:'var_rss13', 5:'avg_rss23', 6:'var_rss23'},\n",
    "    inplace=True,\n",
    ")"
   ]
  },
  {
   "cell_type": "code",
   "execution_count": 37,
   "id": "a22cd970",
   "metadata": {},
   "outputs": [],
   "source": [
    "df_walking['Activity']=\"Walking\"\n",
    "df_sitting['Activity']=\"Sitting\"\n",
    "df_standing['Activity']=\"Standing\"\n",
    "df_lying['Activity']=\"Lyinng\"\n",
    "df_cycling['Activity']=\"Cycling\"\n",
    "df_bending1['Activity']=\"Bending1\"\n",
    "df_bending2['Activity']=\"Bending2\""
   ]
  },
  {
   "cell_type": "code",
   "execution_count": 38,
   "id": "40152f07",
   "metadata": {},
   "outputs": [
    {
     "data": {
      "text/plain": [
       "0"
      ]
     },
     "execution_count": 38,
     "metadata": {},
     "output_type": "execute_result"
    }
   ],
   "source": [
    "df_bending2.duplicated().sum()"
   ]
  },
  {
   "cell_type": "code",
   "execution_count": 39,
   "id": "80d0b254",
   "metadata": {},
   "outputs": [],
   "source": [
    "lst = [df_walking,df_sitting, df_standing, df_lying,df_cycling,df_bending1,df_bending2]  # List of your dataframes\n",
    "df= pd.concat(lst)"
   ]
  },
  {
   "cell_type": "code",
   "execution_count": 40,
   "id": "e672f6a0",
   "metadata": {},
   "outputs": [
    {
     "data": {
      "text/plain": [
       "time         0\n",
       "avg_rss12    0\n",
       "var_rss12    0\n",
       "avg_rss13    0\n",
       "var_rss13    0\n",
       "avg_rss23    0\n",
       "var_rss23    0\n",
       "Activity     0\n",
       "dtype: int64"
      ]
     },
     "execution_count": 40,
     "metadata": {},
     "output_type": "execute_result"
    }
   ],
   "source": [
    "df_bending2.isnull().sum()"
   ]
  },
  {
   "cell_type": "code",
   "execution_count": 41,
   "id": "9eaaf57a",
   "metadata": {},
   "outputs": [
    {
     "data": {
      "text/plain": [
       "time         0\n",
       "avg_rss12    0\n",
       "var_rss12    0\n",
       "avg_rss13    0\n",
       "var_rss13    0\n",
       "avg_rss23    0\n",
       "var_rss23    0\n",
       "Activity     0\n",
       "dtype: int64"
      ]
     },
     "execution_count": 41,
     "metadata": {},
     "output_type": "execute_result"
    }
   ],
   "source": [
    "df.isnull().sum()"
   ]
  },
  {
   "cell_type": "code",
   "execution_count": 42,
   "id": "a2363b11",
   "metadata": {},
   "outputs": [
    {
     "data": {
      "text/plain": [
       "3359"
      ]
     },
     "execution_count": 42,
     "metadata": {},
     "output_type": "execute_result"
    }
   ],
   "source": [
    "df.duplicated().sum()"
   ]
  },
  {
   "cell_type": "code",
   "execution_count": 43,
   "id": "be59f4ee",
   "metadata": {},
   "outputs": [
    {
     "data": {
      "text/plain": [
       "(42237, 8)"
      ]
     },
     "execution_count": 43,
     "metadata": {},
     "output_type": "execute_result"
    }
   ],
   "source": [
    "df.shape"
   ]
  },
  {
   "cell_type": "code",
   "execution_count": 44,
   "id": "65161b40",
   "metadata": {},
   "outputs": [
    {
     "name": "stdout",
     "output_type": "stream",
     "text": [
      "<class 'pandas.core.frame.DataFrame'>\n",
      "Int64Index: 42237 entries, 0 to 479\n",
      "Data columns (total 8 columns):\n",
      " #   Column     Non-Null Count  Dtype  \n",
      "---  ------     --------------  -----  \n",
      " 0   time       42237 non-null  float64\n",
      " 1   avg_rss12  42237 non-null  float64\n",
      " 2   var_rss12  42237 non-null  float64\n",
      " 3   avg_rss13  42237 non-null  float64\n",
      " 4   var_rss13  42237 non-null  float64\n",
      " 5   avg_rss23  42237 non-null  float64\n",
      " 6   var_rss23  42237 non-null  float64\n",
      " 7   Activity   42237 non-null  object \n",
      "dtypes: float64(7), object(1)\n",
      "memory usage: 2.9+ MB\n"
     ]
    }
   ],
   "source": [
    "df.info()"
   ]
  },
  {
   "cell_type": "code",
   "execution_count": 45,
   "id": "e7e48709",
   "metadata": {},
   "outputs": [
    {
     "data": {
      "text/html": [
       "<div>\n",
       "<style scoped>\n",
       "    .dataframe tbody tr th:only-of-type {\n",
       "        vertical-align: middle;\n",
       "    }\n",
       "\n",
       "    .dataframe tbody tr th {\n",
       "        vertical-align: top;\n",
       "    }\n",
       "\n",
       "    .dataframe thead th {\n",
       "        text-align: right;\n",
       "    }\n",
       "</style>\n",
       "<table border=\"1\" class=\"dataframe\">\n",
       "  <thead>\n",
       "    <tr style=\"text-align: right;\">\n",
       "      <th></th>\n",
       "      <th>time</th>\n",
       "      <th>avg_rss12</th>\n",
       "      <th>var_rss12</th>\n",
       "      <th>avg_rss13</th>\n",
       "      <th>var_rss13</th>\n",
       "      <th>avg_rss23</th>\n",
       "      <th>var_rss23</th>\n",
       "      <th>Activity</th>\n",
       "    </tr>\n",
       "  </thead>\n",
       "  <tbody>\n",
       "    <tr>\n",
       "      <th>0</th>\n",
       "      <td>0.0</td>\n",
       "      <td>35.00</td>\n",
       "      <td>3.67</td>\n",
       "      <td>16.50</td>\n",
       "      <td>3.77</td>\n",
       "      <td>14.00</td>\n",
       "      <td>1.63</td>\n",
       "      <td>Walking</td>\n",
       "    </tr>\n",
       "    <tr>\n",
       "      <th>1</th>\n",
       "      <td>250.0</td>\n",
       "      <td>28.50</td>\n",
       "      <td>3.35</td>\n",
       "      <td>17.50</td>\n",
       "      <td>3.77</td>\n",
       "      <td>12.25</td>\n",
       "      <td>3.90</td>\n",
       "      <td>Walking</td>\n",
       "    </tr>\n",
       "    <tr>\n",
       "      <th>2</th>\n",
       "      <td>500.0</td>\n",
       "      <td>35.50</td>\n",
       "      <td>2.87</td>\n",
       "      <td>15.75</td>\n",
       "      <td>2.86</td>\n",
       "      <td>17.75</td>\n",
       "      <td>5.07</td>\n",
       "      <td>Walking</td>\n",
       "    </tr>\n",
       "    <tr>\n",
       "      <th>3</th>\n",
       "      <td>750.0</td>\n",
       "      <td>29.75</td>\n",
       "      <td>12.19</td>\n",
       "      <td>16.25</td>\n",
       "      <td>2.17</td>\n",
       "      <td>20.75</td>\n",
       "      <td>2.59</td>\n",
       "      <td>Walking</td>\n",
       "    </tr>\n",
       "    <tr>\n",
       "      <th>4</th>\n",
       "      <td>1000.0</td>\n",
       "      <td>27.00</td>\n",
       "      <td>2.12</td>\n",
       "      <td>16.75</td>\n",
       "      <td>0.83</td>\n",
       "      <td>24.75</td>\n",
       "      <td>1.64</td>\n",
       "      <td>Walking</td>\n",
       "    </tr>\n",
       "  </tbody>\n",
       "</table>\n",
       "</div>"
      ],
      "text/plain": [
       "     time  avg_rss12  var_rss12  avg_rss13  var_rss13  avg_rss23  var_rss23  \\\n",
       "0     0.0      35.00       3.67      16.50       3.77      14.00       1.63   \n",
       "1   250.0      28.50       3.35      17.50       3.77      12.25       3.90   \n",
       "2   500.0      35.50       2.87      15.75       2.86      17.75       5.07   \n",
       "3   750.0      29.75      12.19      16.25       2.17      20.75       2.59   \n",
       "4  1000.0      27.00       2.12      16.75       0.83      24.75       1.64   \n",
       "\n",
       "  Activity  \n",
       "0  Walking  \n",
       "1  Walking  \n",
       "2  Walking  \n",
       "3  Walking  \n",
       "4  Walking  "
      ]
     },
     "execution_count": 45,
     "metadata": {},
     "output_type": "execute_result"
    }
   ],
   "source": [
    "df.head()"
   ]
  },
  {
   "cell_type": "code",
   "execution_count": 46,
   "id": "4f4833f3",
   "metadata": {},
   "outputs": [
    {
     "data": {
      "text/plain": [
       "array(['Walking', 'Sitting', 'Standing', 'Lyinng', 'Cycling', 'Bending1',\n",
       "       'Bending2'], dtype=object)"
      ]
     },
     "execution_count": 46,
     "metadata": {},
     "output_type": "execute_result"
    }
   ],
   "source": [
    "df[\"Activity\"].unique()"
   ]
  },
  {
   "cell_type": "code",
   "execution_count": 47,
   "id": "157d5555",
   "metadata": {},
   "outputs": [],
   "source": [
    "x = df.drop('Activity', axis =1)\n",
    "y = df['Activity']"
   ]
  },
  {
   "cell_type": "code",
   "execution_count": 48,
   "id": "1ba3bea3",
   "metadata": {},
   "outputs": [],
   "source": [
    "from sklearn.model_selection import train_test_split\n",
    "x_train, x_test, y_train, y_test = train_test_split(x, y, test_size = 0.25, random_state = 101)"
   ]
  },
  {
   "cell_type": "code",
   "execution_count": 49,
   "id": "1c9c4054",
   "metadata": {},
   "outputs": [],
   "source": [
    "from sklearn.preprocessing import StandardScaler\n",
    "scaler = StandardScaler()"
   ]
  },
  {
   "cell_type": "code",
   "execution_count": 50,
   "id": "216411a7",
   "metadata": {},
   "outputs": [],
   "source": [
    "scaled_x_train=scaler.fit_transform(x_train)\n",
    "scaled_x_test=scaler.transform(x_test)"
   ]
  },
  {
   "cell_type": "code",
   "execution_count": 51,
   "id": "dae39fc5",
   "metadata": {},
   "outputs": [],
   "source": [
    "from sklearn.linear_model import LinearRegression,LogisticRegression"
   ]
  },
  {
   "cell_type": "code",
   "execution_count": 52,
   "id": "6f9a2fcf",
   "metadata": {},
   "outputs": [],
   "source": [
    "log_model=LogisticRegression()"
   ]
  },
  {
   "cell_type": "code",
   "execution_count": 53,
   "id": "6dee8255",
   "metadata": {},
   "outputs": [
    {
     "data": {
      "text/plain": [
       "LogisticRegression()"
      ]
     },
     "execution_count": 53,
     "metadata": {},
     "output_type": "execute_result"
    }
   ],
   "source": [
    "log_model.fit(scaled_x_train,y_train)"
   ]
  },
  {
   "cell_type": "code",
   "execution_count": 54,
   "id": "b679eee4",
   "metadata": {},
   "outputs": [
    {
     "data": {
      "text/plain": [
       "0.6723490229504057"
      ]
     },
     "execution_count": 54,
     "metadata": {},
     "output_type": "execute_result"
    }
   ],
   "source": [
    "log_model.score(scaled_x_train,y_train)"
   ]
  },
  {
   "cell_type": "code",
   "execution_count": 55,
   "id": "d65b5ebd",
   "metadata": {},
   "outputs": [
    {
     "data": {
      "text/plain": [
       "0.6756628787878788"
      ]
     },
     "execution_count": 55,
     "metadata": {},
     "output_type": "execute_result"
    }
   ],
   "source": [
    "log_model.score(scaled_x_test,y_test)"
   ]
  },
  {
   "cell_type": "code",
   "execution_count": 56,
   "id": "e974fdf2",
   "metadata": {},
   "outputs": [],
   "source": [
    "from sklearn.neighbors import KNeighborsClassifier"
   ]
  },
  {
   "cell_type": "code",
   "execution_count": 57,
   "id": "0f0e66e8",
   "metadata": {},
   "outputs": [],
   "source": [
    "kn=KNeighborsClassifier(n_neighbors=1)"
   ]
  },
  {
   "cell_type": "code",
   "execution_count": 58,
   "id": "77ef13e3",
   "metadata": {},
   "outputs": [
    {
     "data": {
      "text/plain": [
       "KNeighborsClassifier(n_neighbors=1)"
      ]
     },
     "execution_count": 58,
     "metadata": {},
     "output_type": "execute_result"
    }
   ],
   "source": [
    "kn.fit(scaled_x_train,y_train)"
   ]
  },
  {
   "cell_type": "code",
   "execution_count": 59,
   "id": "cffa7635",
   "metadata": {},
   "outputs": [
    {
     "name": "stderr",
     "output_type": "stream",
     "text": [
      "C:\\Users\\kunj3\\anaconda3\\lib\\site-packages\\sklearn\\neighbors\\_classification.py:228: FutureWarning: Unlike other reduction functions (e.g. `skew`, `kurtosis`), the default behavior of `mode` typically preserves the axis it acts along. In SciPy 1.11.0, this behavior will change: the default value of `keepdims` will become False, the `axis` over which the statistic is taken will be eliminated, and the value None will no longer be accepted. Set `keepdims` to True or False to avoid this warning.\n",
      "  mode, _ = stats.mode(_y[neigh_ind, k], axis=1)\n"
     ]
    },
    {
     "data": {
      "text/plain": [
       "0.9999684313539793"
      ]
     },
     "execution_count": 59,
     "metadata": {},
     "output_type": "execute_result"
    }
   ],
   "source": [
    "kn.score(scaled_x_train,y_train)"
   ]
  },
  {
   "cell_type": "code",
   "execution_count": 60,
   "id": "e56f45ec",
   "metadata": {},
   "outputs": [
    {
     "name": "stderr",
     "output_type": "stream",
     "text": [
      "C:\\Users\\kunj3\\anaconda3\\lib\\site-packages\\sklearn\\neighbors\\_classification.py:228: FutureWarning: Unlike other reduction functions (e.g. `skew`, `kurtosis`), the default behavior of `mode` typically preserves the axis it acts along. In SciPy 1.11.0, this behavior will change: the default value of `keepdims` will become False, the `axis` over which the statistic is taken will be eliminated, and the value None will no longer be accepted. Set `keepdims` to True or False to avoid this warning.\n",
      "  mode, _ = stats.mode(_y[neigh_ind, k], axis=1)\n"
     ]
    },
    {
     "data": {
      "text/plain": [
       "0.7833333333333333"
      ]
     },
     "execution_count": 60,
     "metadata": {},
     "output_type": "execute_result"
    }
   ],
   "source": [
    "kn.score(scaled_x_test,y_test)"
   ]
  },
  {
   "cell_type": "code",
   "execution_count": 61,
   "id": "03c2592b",
   "metadata": {},
   "outputs": [],
   "source": [
    "from sklearn.svm import SVC #linear kernel"
   ]
  },
  {
   "cell_type": "code",
   "execution_count": 62,
   "id": "489483f9",
   "metadata": {},
   "outputs": [],
   "source": [
    "model = SVC()"
   ]
  },
  {
   "cell_type": "code",
   "execution_count": 63,
   "id": "ed0aa270",
   "metadata": {},
   "outputs": [
    {
     "data": {
      "text/plain": [
       "SVC()"
      ]
     },
     "execution_count": 63,
     "metadata": {},
     "output_type": "execute_result"
    }
   ],
   "source": [
    "model.fit(scaled_x_train,y_train)"
   ]
  },
  {
   "cell_type": "code",
   "execution_count": 64,
   "id": "4d526315",
   "metadata": {},
   "outputs": [
    {
     "data": {
      "text/plain": [
       "0.7484925971525082"
      ]
     },
     "execution_count": 64,
     "metadata": {},
     "output_type": "execute_result"
    }
   ],
   "source": [
    "model.score(scaled_x_train,y_train)"
   ]
  },
  {
   "cell_type": "code",
   "execution_count": 65,
   "id": "76b96736",
   "metadata": {},
   "outputs": [
    {
     "data": {
      "text/plain": [
       "0.7465909090909091"
      ]
     },
     "execution_count": 65,
     "metadata": {},
     "output_type": "execute_result"
    }
   ],
   "source": [
    "model.score(scaled_x_test,y_test)"
   ]
  },
  {
   "cell_type": "code",
   "execution_count": 66,
   "id": "8a9c7993",
   "metadata": {},
   "outputs": [],
   "source": [
    "from sklearn import tree"
   ]
  },
  {
   "cell_type": "code",
   "execution_count": 67,
   "id": "34bc7527",
   "metadata": {},
   "outputs": [
    {
     "data": {
      "text/plain": [
       "DecisionTreeClassifier()"
      ]
     },
     "execution_count": 67,
     "metadata": {},
     "output_type": "execute_result"
    }
   ],
   "source": [
    "clf = tree.DecisionTreeClassifier()\n",
    "clf.fit(x_train,y_train)"
   ]
  },
  {
   "cell_type": "code",
   "execution_count": 68,
   "id": "8a547abf",
   "metadata": {},
   "outputs": [
    {
     "data": {
      "text/plain": [
       "0.9999684313539793"
      ]
     },
     "execution_count": 68,
     "metadata": {},
     "output_type": "execute_result"
    }
   ],
   "source": [
    "clf.score(x_train,y_train)"
   ]
  },
  {
   "cell_type": "code",
   "execution_count": 69,
   "id": "cf7bb055",
   "metadata": {},
   "outputs": [
    {
     "data": {
      "text/plain": [
       "0.7823863636363636"
      ]
     },
     "execution_count": 69,
     "metadata": {},
     "output_type": "execute_result"
    }
   ],
   "source": [
    "clf.score(x_test,y_test)"
   ]
  },
  {
   "cell_type": "code",
   "execution_count": 70,
   "id": "4afabfaf",
   "metadata": {},
   "outputs": [
    {
     "data": {
      "text/plain": [
       "GridSearchCV(estimator=DecisionTreeClassifier(),\n",
       "             param_grid={'max_depth': [2, 4, 6, 8, 10, 12],\n",
       "                         'min_samples_leaf': [1, 2],\n",
       "                         'min_samples_split': [2, 3, 4]})"
      ]
     },
     "execution_count": 70,
     "metadata": {},
     "output_type": "execute_result"
    }
   ],
   "source": [
    "## prepruning\n",
    "from sklearn.model_selection import GridSearchCV\n",
    "params = {'max_depth' : [2,4,6,8,10,12],\n",
    "         'min_samples_split' : [2,3,4],\n",
    "         'min_samples_leaf':[1,2]}\n",
    "gcv = GridSearchCV(estimator = clf, param_grid = params)\n",
    "gcv.fit(x_train,y_train)"
   ]
  },
  {
   "cell_type": "code",
   "execution_count": 71,
   "id": "37d3e38c",
   "metadata": {},
   "outputs": [
    {
     "data": {
      "text/plain": [
       "{'max_depth': 12, 'min_samples_leaf': 1, 'min_samples_split': 2}"
      ]
     },
     "execution_count": 71,
     "metadata": {},
     "output_type": "execute_result"
    }
   ],
   "source": [
    "gcv.best_params_"
   ]
  },
  {
   "cell_type": "code",
   "execution_count": 72,
   "id": "30bf6a36",
   "metadata": {},
   "outputs": [
    {
     "data": {
      "text/plain": [
       "array(['Lyinng', 'Lyinng', 'Walking', ..., 'Walking', 'Lyinng', 'Cycling'],\n",
       "      dtype=object)"
      ]
     },
     "execution_count": 72,
     "metadata": {},
     "output_type": "execute_result"
    }
   ],
   "source": [
    "y_pred = gcv.predict(x_test)\n",
    "y_pred"
   ]
  },
  {
   "cell_type": "code",
   "execution_count": 73,
   "id": "11e3289e",
   "metadata": {},
   "outputs": [
    {
     "data": {
      "text/plain": [
       "0.771780303030303"
      ]
     },
     "execution_count": 73,
     "metadata": {},
     "output_type": "execute_result"
    }
   ],
   "source": [
    "gcv.score(x_test,y_test)"
   ]
  },
  {
   "cell_type": "code",
   "execution_count": 74,
   "id": "87c1ce8b",
   "metadata": {},
   "outputs": [
    {
     "data": {
      "text/plain": [
       "0.8392524544622281"
      ]
     },
     "execution_count": 74,
     "metadata": {},
     "output_type": "execute_result"
    }
   ],
   "source": [
    "gcv.score(x_train,y_train)"
   ]
  },
  {
   "cell_type": "code",
   "execution_count": null,
   "id": "cb4c533a",
   "metadata": {},
   "outputs": [],
   "source": []
  },
  {
   "cell_type": "code",
   "execution_count": null,
   "id": "98b63937",
   "metadata": {},
   "outputs": [],
   "source": []
  }
 ],
 "metadata": {
  "kernelspec": {
   "display_name": "Python 3 (ipykernel)",
   "language": "python",
   "name": "python3"
  },
  "language_info": {
   "codemirror_mode": {
    "name": "ipython",
    "version": 3
   },
   "file_extension": ".py",
   "mimetype": "text/x-python",
   "name": "python",
   "nbconvert_exporter": "python",
   "pygments_lexer": "ipython3",
   "version": "3.9.13"
  }
 },
 "nbformat": 4,
 "nbformat_minor": 5
}
